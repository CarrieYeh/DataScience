{
 "cells": [
  {
   "cell_type": "code",
   "execution_count": 1,
   "metadata": {},
   "outputs": [],
   "source": [
    "import pandas as pd\n",
    "import numpy as np\n",
    "from sklearn.model_selection import train_test_split\n",
    "from sklearn.neighbors import KNeighborsClassifier"
   ]
  },
  {
   "cell_type": "code",
   "execution_count": 2,
   "metadata": {
    "scrolled": true
   },
   "outputs": [],
   "source": [
    "train = pd.read_csv('train.csv')\n",
    "test = pd.read_csv('test.csv')\n",
    "upload = pd.read_csv('upload.csv')\n",
    "train = train.dropna(axis = 1, how = 'all')\n",
    "test = test.dropna(axis = 1, how = 'all')\n",
    "# test.head()"
   ]
  },
  {
   "cell_type": "code",
   "execution_count": 3,
   "metadata": {},
   "outputs": [],
   "source": [
    "temp = ['RowNumber', 'CustomerId', 'Surname', 'Exited']\n",
    "train_X = train.drop(temp, axis = 1) \n",
    "train_y = train['Exited']\n",
    "test_X = test.drop(temp[0:3], axis = 1)\n"
   ]
  },
  {
   "cell_type": "code",
   "execution_count": 4,
   "metadata": {},
   "outputs": [],
   "source": [
    "from sklearn.preprocessing import LabelEncoder\n",
    "from sklearn import preprocessing\n",
    "labelencoder = LabelEncoder()\n",
    "train_X['Geography'] = labelencoder.fit_transform(train_X['Geography'])\n",
    "train_X['Gender'] = labelencoder.fit_transform(train_X['Gender'])\n",
    "train_X['Age'] = preprocessing.scale(train_X['Age'])\n",
    "train_X['Tenure'] = preprocessing.scale(train_X['Tenure'])\n",
    "train_X['Balance'] = preprocessing.scale(train_X['Balance'])\n",
    "train_X['EstimatedSalary'] = preprocessing.scale(train_X['EstimatedSalary'])\n"
   ]
  },
  {
   "cell_type": "code",
   "execution_count": 5,
   "metadata": {},
   "outputs": [],
   "source": [
    "test_X['Geography'] = labelencoder.fit_transform(test_X['Geography'])\n",
    "test_X['Gender'] = labelencoder.fit_transform(test_X['Gender'])\n",
    "test_X['Age'] = preprocessing.scale(test_X['Age'])\n",
    "test_X['Tenure'] = preprocessing.scale(test_X['Tenure'])\n",
    "test_X['Balance'] = preprocessing.scale(test_X['Balance'])\n",
    "test_X['EstimatedSalary'] = preprocessing.scale(test_X['EstimatedSalary'])"
   ]
  },
  {
   "cell_type": "code",
   "execution_count": 21,
   "metadata": {},
   "outputs": [
    {
     "data": {
      "text/plain": [
       "array([0, 0, 1, ..., 1, 1, 1])"
      ]
     },
     "execution_count": 21,
     "metadata": {},
     "output_type": "execute_result"
    }
   ],
   "source": [
    "from sklearn.cluster import KMeans\n",
    "kmeans = KMeans(n_clusters=2,random_state=42)\n",
    "labels = kmeans.fit_predict(test_X)\n",
    "labels"
   ]
  },
  {
   "cell_type": "code",
   "execution_count": 22,
   "metadata": {},
   "outputs": [
    {
     "data": {
      "text/plain": [
       "array([0, 0, 0, ..., 0, 0, 0], dtype=int64)"
      ]
     },
     "execution_count": 22,
     "metadata": {},
     "output_type": "execute_result"
    }
   ],
   "source": [
    "from sklearn.cluster import DBSCAN\n",
    "clustering = DBSCAN(eps=3, min_samples=2).fit(test_X)\n",
    "clustering.labels_"
   ]
  },
  {
   "cell_type": "code",
   "execution_count": 6,
   "metadata": {},
   "outputs": [
    {
     "data": {
      "text/plain": [
       "array([0, 0, 0, ..., 0, 0, 0], dtype=int64)"
      ]
     },
     "execution_count": 6,
     "metadata": {},
     "output_type": "execute_result"
    }
   ],
   "source": [
    "classifier = KNeighborsClassifier()\n",
    "classifier.fit(train_X, train_y)\n",
    "pred_y = classifier.predict(test_X)\n",
    "pred_y"
   ]
  },
  {
   "cell_type": "code",
   "execution_count": null,
   "metadata": {},
   "outputs": [],
   "source": [
    "from xgboost import XGBClassifier\n",
    "xgboostModel = XGBClassifier(n_estimators=100, learning_rate= 0.3)\n",
    "xgboostModel.fit(train_X,train_y)\n",
    "# 使用訓練資料預測分類\n",
    "predicted = xgboostModel.predict(test_X)\n",
    "predicted"
   ]
  },
  {
   "cell_type": "code",
   "execution_count": null,
   "metadata": {},
   "outputs": [],
   "source": [
    "classifer=LogisticRegression()\n",
    "classifier.fit(train_X,train_y)\n",
    "pred_yy=classifier.predict(test_X)\n",
    "pred_yy"
   ]
  },
  {
   "cell_type": "code",
   "execution_count": 24,
   "metadata": {},
   "outputs": [],
   "source": [
    "upload['Exited'] = clustering.labels_\n",
    "upload.to_csv('4.csv')"
   ]
  },
  {
   "cell_type": "code",
   "execution_count": null,
   "metadata": {},
   "outputs": [],
   "source": []
  }
 ],
 "metadata": {
  "kernelspec": {
   "display_name": "Python 3",
   "language": "python",
   "name": "python3"
  },
  "language_info": {
   "codemirror_mode": {
    "name": "ipython",
    "version": 3
   },
   "file_extension": ".py",
   "mimetype": "text/x-python",
   "name": "python",
   "nbconvert_exporter": "python",
   "pygments_lexer": "ipython3",
   "version": "3.8.5"
  }
 },
 "nbformat": 4,
 "nbformat_minor": 5
}
